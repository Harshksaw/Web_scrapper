{
  "cells": [
    {
      "cell_type": "code",
      "execution_count": 3,
      "metadata": {
        "id": "iwfxNRHrUNrn"
      },
      "outputs": [],
      "source": [
        "import os  # Importing the 'os' module for interacting with the operating system\n",
        "import PIL  # Importing the 'PIL' module, used for handling images in Python\n",
        "import shutil  # Importing the 'shutil' module, providing high-level file operations\n",
        "import pathlib  # Importing the 'pathlib' module for working with filesystem paths\n",
        "import numpy as np  # Importing the 'numpy' library for numerical computations in Python\n",
        "import matplotlib.pyplot as plt  # Importing 'matplotlib.pyplot' for data visualization\n"
      ]
    },
    {
      "cell_type": "code",
      "execution_count": 4,
      "metadata": {
        "id": "nsYzeuAJUNrp"
      },
      "outputs": [
        {
          "ename": "ModuleNotFoundError",
          "evalue": "No module named 'tensorflow'",
          "output_type": "error",
          "traceback": [
            "\u001b[0;31m---------------------------------------------------------------------------\u001b[0m",
            "\u001b[0;31mModuleNotFoundError\u001b[0m                       Traceback (most recent call last)",
            "Cell \u001b[0;32mIn[4], line 1\u001b[0m\n\u001b[0;32m----> 1\u001b[0m \u001b[38;5;28;01mimport\u001b[39;00m \u001b[38;5;21;01mtensorflow\u001b[39;00m \u001b[38;5;28;01mas\u001b[39;00m \u001b[38;5;21;01mtf\u001b[39;00m  \u001b[38;5;66;03m# Importing TensorFlow, a popular machine learning framework in Python\u001b[39;00m\n\u001b[1;32m      2\u001b[0m \u001b[38;5;28;01mfrom\u001b[39;00m \u001b[38;5;21;01mtensorflow\u001b[39;00m \u001b[38;5;28;01mimport\u001b[39;00m keras  \u001b[38;5;66;03m# Importing the 'keras' submodule from TensorFlow for high-level neural network APIs\u001b[39;00m\n\u001b[1;32m      3\u001b[0m \u001b[38;5;28;01mfrom\u001b[39;00m \u001b[38;5;21;01mtensorflow\u001b[39;00m\u001b[38;5;21;01m.\u001b[39;00m\u001b[38;5;21;01mkeras\u001b[39;00m \u001b[38;5;28;01mimport\u001b[39;00m layers  \u001b[38;5;66;03m# Importing the 'layers' module from Keras for defining neural network layers\u001b[39;00m\n",
            "\u001b[0;31mModuleNotFoundError\u001b[0m: No module named 'tensorflow'"
          ]
        }
      ],
      "source": [
        "import tensorflow as tf  # Importing TensorFlow, a popular machine learning framework in Python\n",
        "from tensorflow import keras  # Importing the 'keras' submodule from TensorFlow for high-level neural network APIs\n",
        "from tensorflow.keras import layers  # Importing the 'layers' module from Keras for defining neural network layers\n",
        "from tensorflow.keras.models import Sequential, save_model  # Importing 'Sequential' model and 'save_model' function from Keras"
      ]
    },
    {
      "cell_type": "code",
      "execution_count": null,
      "metadata": {
        "id": "u-_hR8grUNrp"
      },
      "outputs": [],
      "source": [
        "dataset_url = \"https://storage.googleapis.com/download.tensorflow.org/example_images/flower_photos.tgz\"\n",
        "# Defines the URL from which the dataset will be downloaded\n",
        "\n",
        "data_dir = tf.keras.utils.get_file('flower_photos', origin=dataset_url, untar=True)\n",
        "# Uses TensorFlow's 'get_file' utility to download the dataset from the specified URL.\n",
        "# 'flower_photos' is the name assigned to the downloaded file or directory.\n",
        "# 'origin' specifies the URL to download from.\n",
        "# 'untar=True' indicates that the downloaded file should be extracted (assuming it's a compressed archive like .tgz or .tar.gz).\n",
        "\n",
        "data_dir = pathlib.Path(data_dir)\n",
        "# Converts the obtained path (either to a file or directory) into a Path object using 'pathlib'.\n",
        "# This allows for manipulation and traversal of the file path in an object-oriented way."
      ]
    },
    {
      "cell_type": "code",
      "execution_count": null,
      "metadata": {
        "colab": {
          "base_uri": "https://localhost:8080/"
        },
        "id": "dmmVfm-5UNrp",
        "outputId": "aae927fa-771b-4256-e329-8bdb2e64426b"
      },
      "outputs": [
        {
          "name": "stdout",
          "output_type": "stream",
          "text": [
            "Total no. of images:  3670\n"
          ]
        }
      ],
      "source": [
        "image_count = len(list(data_dir.glob('*/*.jpg')))\n",
        "# Uses the 'glob' method from the 'pathlib' module to create a list of file paths.\n",
        "# The expression '*/*.jpg' specifies a pattern to match all files with a '.jpg' extension in any subdirectory.\n",
        "# 'data_dir.glob()' generates an iterator that yields paths matching the specified pattern.\n",
        "# 'list()' converts this iterator to a list.\n",
        "# 'len()' calculates the length of the list, which represents the total count of image files.\n",
        "\n",
        "print(\"Total no. of images: \", image_count)\n",
        "# Prints the total number of images found in the dataset directory.\n"
      ]
    },
    {
      "cell_type": "code",
      "execution_count": null,
      "metadata": {
        "id": "vbb87dKzUNrq"
      },
      "outputs": [],
      "source": [
        "batch_size = 32\n",
        "# Specifies the batch size, indicating the number of images that will be processed in each training iteration.\n",
        "# A batch size of 32 means that during each training step, the model will process 32 images before updating its parameters.\n",
        "\n",
        "img_height = 180\n",
        "# Defines the height of the input images.\n",
        "# Images will be resized or processed to have a height of 180 pixels.\n",
        "\n",
        "img_width = 180\n",
        "# Defines the width of the input images.\n",
        "# Images will be resized or processed to have a width of 180 pixels."
      ]
    },
    {
      "cell_type": "code",
      "execution_count": null,
      "metadata": {
        "colab": {
          "base_uri": "https://localhost:8080/"
        },
        "id": "L_eP6A00UNrq",
        "outputId": "ae13f947-08ef-4092-95aa-927fa1911232"
      },
      "outputs": [
        {
          "name": "stdout",
          "output_type": "stream",
          "text": [
            "Found 3670 files belonging to 5 classes.\n",
            "Using 2936 files for training.\n"
          ]
        }
      ],
      "source": [
        "train_ds = tf.keras.preprocessing.image_dataset_from_directory(\n",
        "  data_dir,\n",
        "  validation_split=0.2,  # Splits the dataset into training and validation sets. Here, 20% of the data will be used for validation.\n",
        "  subset=\"training\",  # Specifies that this dataset is for training purposes.\n",
        "  seed=123,  # Sets the seed for reproducibility when splitting the dataset.\n",
        "  image_size=(img_height, img_width),  # Resizes the images to the specified height and width.\n",
        "  batch_size=batch_size  # Sets the batch size for the training dataset.\n",
        ")"
      ]
    },
    {
      "cell_type": "code",
      "execution_count": null,
      "metadata": {
        "colab": {
          "base_uri": "https://localhost:8080/"
        },
        "id": "eDAEzu4HUNrq",
        "outputId": "2e0b2655-abb2-49d9-8980-7d68e5acf40b"
      },
      "outputs": [
        {
          "name": "stdout",
          "output_type": "stream",
          "text": [
            "Found 3670 files belonging to 5 classes.\n",
            "Using 734 files for validation.\n"
          ]
        }
      ],
      "source": [
        "val_ds = tf.keras.preprocessing.image_dataset_from_directory(\n",
        "  data_dir,  # Specifies the directory containing the validation dataset.\n",
        "  validation_split=0.2,  # Splits the dataset into training and validation sets. Here, 20% of the data will be used for validation.\n",
        "  subset=\"validation\",  # Specifies that this dataset is for validation purposes.\n",
        "  seed=123,  # Sets the seed for reproducibility when splitting the dataset.\n",
        "  image_size=(img_height, img_width),  # Resizes the images to the specified height and width.\n",
        "  batch_size=batch_size  # Sets the batch size for the validation dataset.\n",
        ")"
      ]
    },
    {
      "cell_type": "code",
      "execution_count": null,
      "metadata": {
        "colab": {
          "base_uri": "https://localhost:8080/"
        },
        "id": "Z555Sm_WUNrq",
        "outputId": "a6984b02-94f3-4b16-a0bf-8f88c3072b1c"
      },
      "outputs": [
        {
          "name": "stdout",
          "output_type": "stream",
          "text": [
            "Class Names : ['daisy', 'dandelion', 'roses', 'sunflowers', 'tulips']\n"
          ]
        }
      ],
      "source": [
        "class_names = train_ds.class_names\n",
        "# Retrieves the class names from the 'train_ds' dataset.\n",
        "# These class names correspond to the subdirectories' names in the dataset directory, representing different categories or classes of images.\n",
        "\n",
        "print(\"Class Names :\", class_names)\n",
        "# Prints the obtained class names.\n",
        "# This line displays the list of class names that the model will learn to classify during training.\n"
      ]
    },
    {
      "cell_type": "code",
      "execution_count": null,
      "metadata": {
        "id": "qct3gCJWUNrq"
      },
      "outputs": [],
      "source": [
        "train_ds = train_ds.cache().shuffle(1000)\n",
        "# Caches the training dataset 'train_ds', which helps in speeding up data retrieval during training by caching it in memory or on disk.\n",
        "# The '.cache()' method stores the data after the first epoch, avoiding redundant preprocessing.\n",
        "# The '.shuffle(1000)' method shuffles the training dataset with a buffer size of 1000, ensuring randomness in each batch during training.\n",
        "\n",
        "val_ds = val_ds.cache()\n",
        "# Caches the validation dataset 'val_ds'.\n",
        "# Similar to the training dataset, caching improves performance by storing the validation data after the first epoch, reducing I/O overhead."
      ]
    },
    {
      "cell_type": "code",
      "execution_count": null,
      "metadata": {
        "id": "9uafg4wHUNrq"
      },
      "outputs": [],
      "source": [
        "num_classes = len(class_names) # 5\n",
        "# Calculates the number of classes by determining the length of the 'class_names' list.\n",
        "# This line obtains the count of unique classes present in the dataset, which will be used as the number of output classes for the classification model.\n",
        "# In this case, the comment \"# 5\" suggests that there are 5 unique classes in the dataset.\n"
      ]
    },
    {
      "cell_type": "code",
      "execution_count": null,
      "metadata": {
        "id": "x6VR4WiXUNrr"
      },
      "outputs": [],
      "source": [
        "model = Sequential([\n",
        "    layers.experimental.preprocessing.Rescaling(1./255, input_shape=(img_height, img_width, 3)),\n",
        "    # Rescaling layer: Normalizes pixel values to [0,1] by dividing by 255.\n",
        "    # 'input_shape' specifies the input image dimensions (height, width, channels). Here, it's (img_height, img_width, 3) for RGB images.\n",
        "\n",
        "    layers.Conv2D(16, 3, padding='same', activation='relu'),\n",
        "    # Convolutional layer with 16 filters, each using a 3x3 kernel.\n",
        "    # 'padding='same'' adds padding to ensure the output has the same spatial dimensions as the input.\n",
        "    # 'activation='relu'' applies the Rectified Linear Unit activation function.\n",
        "\n",
        "    layers.MaxPooling2D(),\n",
        "    # MaxPooling layer: Performs max pooling operation using a 2x2 window and a stride of 2 to downsample the feature maps.\n",
        "\n",
        "    layers.Conv2D(32, 3, padding='same', activation='relu'),\n",
        "    # Another Convolutional layer with 32 filters, 3x3 kernel, 'padding='same'', and 'activation='relu''.\n",
        "\n",
        "    layers.MaxPooling2D(),\n",
        "    # Another MaxPooling layer.\n",
        "\n",
        "    layers.Conv2D(64, 3, padding='same', activation='relu'),\n",
        "    # Another Convolutional layer with 64 filters, 3x3 kernel, 'padding='same'', and 'activation='relu''.\n",
        "\n",
        "    layers.MaxPooling2D(),\n",
        "    # Another MaxPooling layer.\n",
        "\n",
        "    layers.Flatten(),\n",
        "    # Flatten layer: Flattens the 3D output to 1D to prepare for fully connected layers.\n",
        "\n",
        "    layers.Dense(128, activation='relu'),\n",
        "    # Dense (fully connected) layer with 128 neurons and 'activation='relu''.\n",
        "\n",
        "    layers.Dense(num_classes)\n",
        "    # Output Dense layer with 'num_classes' neurons (number of output classes).\n",
        "    # No activation specified here; it's common in multi-class classification to omit activation to get logits.\n",
        "])"
      ]
    },
    {
      "cell_type": "code",
      "execution_count": null,
      "metadata": {
        "id": "pWpX8rQnUNrr"
      },
      "outputs": [],
      "source": [
        "model.compile(\n",
        "    optimizer='adam',\n",
        "    # Specifies the optimizer to be used during training. 'adam' is an efficient optimization algorithm for gradient-based optimization.\n",
        "\n",
        "    loss=tf.keras.losses.SparseCategoricalCrossentropy(from_logits=True),\n",
        "    # Defines the loss function used for model training.\n",
        "    # 'SparseCategoricalCrossentropy' computes the cross-entropy loss between true labels and predicted logits (before applying softmax).\n",
        "    # 'from_logits=True' specifies that the model outputs logits, not probabilities.\n",
        "\n",
        "    metrics=['accuracy']\n",
        "    # Sets the evaluation metric(s) to be monitored during training.\n",
        "    # Here, 'accuracy' is used as the metric to track the classification accuracy of the model.\n",
        ")\n"
      ]
    },
    {
      "cell_type": "code",
      "execution_count": null,
      "metadata": {
        "colab": {
          "base_uri": "https://localhost:8080/"
        },
        "id": "xdpAVLrjUNrr",
        "outputId": "c4419f63-a568-4179-a9db-ab3bdbf46f2c"
      },
      "outputs": [
        {
          "name": "stdout",
          "output_type": "stream",
          "text": [
            "Model: \"sequential_1\"\n",
            "_________________________________________________________________\n",
            " Layer (type)                Output Shape              Param #   \n",
            "=================================================================\n",
            " rescaling_1 (Rescaling)     (None, 180, 180, 3)       0         \n",
            "                                                                 \n",
            " conv2d_3 (Conv2D)           (None, 180, 180, 16)      448       \n",
            "                                                                 \n",
            " max_pooling2d_3 (MaxPoolin  (None, 90, 90, 16)        0         \n",
            " g2D)                                                            \n",
            "                                                                 \n",
            " conv2d_4 (Conv2D)           (None, 90, 90, 32)        4640      \n",
            "                                                                 \n",
            " max_pooling2d_4 (MaxPoolin  (None, 45, 45, 32)        0         \n",
            " g2D)                                                            \n",
            "                                                                 \n",
            " conv2d_5 (Conv2D)           (None, 45, 45, 64)        18496     \n",
            "                                                                 \n",
            " max_pooling2d_5 (MaxPoolin  (None, 22, 22, 64)        0         \n",
            " g2D)                                                            \n",
            "                                                                 \n",
            " flatten_1 (Flatten)         (None, 30976)             0         \n",
            "                                                                 \n",
            " dense_2 (Dense)             (None, 128)               3965056   \n",
            "                                                                 \n",
            " dense_3 (Dense)             (None, 5)                 645       \n",
            "                                                                 \n",
            "=================================================================\n",
            "Total params: 3989285 (15.22 MB)\n",
            "Trainable params: 3989285 (15.22 MB)\n",
            "Non-trainable params: 0 (0.00 Byte)\n",
            "_________________________________________________________________\n",
            "None\n"
          ]
        }
      ],
      "source": [
        "# get inforamtion about layers present in model , shape of output and number of parameters in each layer\n",
        "print(model.summary())"
      ]
    },
    {
      "cell_type": "code",
      "execution_count": null,
      "metadata": {
        "colab": {
          "base_uri": "https://localhost:8080/"
        },
        "id": "X1xDKxKHUNrr",
        "outputId": "b8e17b01-d610-4bad-be68-f57c0403c4eb"
      },
      "outputs": [
        {
          "name": "stdout",
          "output_type": "stream",
          "text": [
            "Model Training....\n"
          ]
        }
      ],
      "source": [
        "print(\"Model Training....\")"
      ]
    },
    {
      "cell_type": "code",
      "execution_count": null,
      "metadata": {
        "colab": {
          "base_uri": "https://localhost:8080/"
        },
        "id": "K5C51y7jUNrr",
        "outputId": "ec6f832d-8ae9-4466-a360-0bb2500949cd"
      },
      "outputs": [
        {
          "name": "stdout",
          "output_type": "stream",
          "text": [
            "Epoch 1/50\n",
            "92/92 [==============================] - 9s 33ms/step - loss: 1.2302 - accuracy: 0.4748 - val_loss: 1.0103 - val_accuracy: 0.5681\n",
            "Epoch 2/50\n",
            "92/92 [==============================] - 2s 23ms/step - loss: 0.9467 - accuracy: 0.6219 - val_loss: 0.9689 - val_accuracy: 0.6226\n",
            "Epoch 3/50\n",
            "92/92 [==============================] - 2s 22ms/step - loss: 0.7307 - accuracy: 0.7265 - val_loss: 0.8648 - val_accuracy: 0.6635\n",
            "Epoch 4/50\n",
            "92/92 [==============================] - 2s 20ms/step - loss: 0.4883 - accuracy: 0.8225 - val_loss: 0.9001 - val_accuracy: 0.6717\n",
            "Epoch 5/50\n",
            "92/92 [==============================] - 2s 20ms/step - loss: 0.3088 - accuracy: 0.8896 - val_loss: 0.9737 - val_accuracy: 0.6512\n",
            "Epoch 6/50\n",
            "92/92 [==============================] - 2s 20ms/step - loss: 0.1431 - accuracy: 0.9561 - val_loss: 1.3182 - val_accuracy: 0.6485\n",
            "Epoch 7/50\n",
            "92/92 [==============================] - 2s 22ms/step - loss: 0.0711 - accuracy: 0.9816 - val_loss: 1.4198 - val_accuracy: 0.6649\n",
            "Epoch 8/50\n",
            "92/92 [==============================] - 2s 22ms/step - loss: 0.0327 - accuracy: 0.9935 - val_loss: 1.5551 - val_accuracy: 0.6608\n",
            "Epoch 9/50\n",
            "92/92 [==============================] - 2s 22ms/step - loss: 0.0383 - accuracy: 0.9891 - val_loss: 1.7561 - val_accuracy: 0.6349\n",
            "Epoch 10/50\n",
            "92/92 [==============================] - 2s 21ms/step - loss: 0.0496 - accuracy: 0.9884 - val_loss: 1.5950 - val_accuracy: 0.6580\n",
            "Epoch 11/50\n",
            "92/92 [==============================] - 2s 20ms/step - loss: 0.0168 - accuracy: 0.9969 - val_loss: 1.9432 - val_accuracy: 0.6512\n",
            "Epoch 12/50\n",
            "92/92 [==============================] - 2s 20ms/step - loss: 0.0265 - accuracy: 0.9922 - val_loss: 1.9265 - val_accuracy: 0.6608\n",
            "Epoch 13/50\n",
            "92/92 [==============================] - 2s 20ms/step - loss: 0.0492 - accuracy: 0.9864 - val_loss: 1.7625 - val_accuracy: 0.6431\n",
            "Epoch 14/50\n",
            "92/92 [==============================] - 2s 20ms/step - loss: 0.0426 - accuracy: 0.9874 - val_loss: 1.8430 - val_accuracy: 0.6689\n",
            "Epoch 15/50\n",
            "92/92 [==============================] - 2s 21ms/step - loss: 0.0108 - accuracy: 0.9966 - val_loss: 2.1194 - val_accuracy: 0.6703\n",
            "Epoch 16/50\n",
            "92/92 [==============================] - 2s 20ms/step - loss: 0.0022 - accuracy: 1.0000 - val_loss: 2.1368 - val_accuracy: 0.6635\n",
            "Epoch 17/50\n",
            "92/92 [==============================] - 2s 20ms/step - loss: 6.1249e-04 - accuracy: 1.0000 - val_loss: 2.2286 - val_accuracy: 0.6649\n",
            "Epoch 18/50\n",
            "92/92 [==============================] - 2s 20ms/step - loss: 3.6877e-04 - accuracy: 1.0000 - val_loss: 2.2940 - val_accuracy: 0.6689\n",
            "Epoch 19/50\n",
            "92/92 [==============================] - 2s 20ms/step - loss: 2.7925e-04 - accuracy: 1.0000 - val_loss: 2.3505 - val_accuracy: 0.6703\n",
            "Epoch 20/50\n",
            "92/92 [==============================] - 2s 21ms/step - loss: 2.2441e-04 - accuracy: 1.0000 - val_loss: 2.3988 - val_accuracy: 0.6717\n",
            "Epoch 21/50\n",
            "92/92 [==============================] - 2s 21ms/step - loss: 1.8579e-04 - accuracy: 1.0000 - val_loss: 2.4434 - val_accuracy: 0.6689\n",
            "Epoch 22/50\n",
            "92/92 [==============================] - 2s 20ms/step - loss: 1.5658e-04 - accuracy: 1.0000 - val_loss: 2.4846 - val_accuracy: 0.6676\n",
            "Epoch 23/50\n",
            "92/92 [==============================] - 2s 20ms/step - loss: 1.3449e-04 - accuracy: 1.0000 - val_loss: 2.5171 - val_accuracy: 0.6689\n",
            "Epoch 24/50\n",
            "92/92 [==============================] - 2s 20ms/step - loss: 1.1775e-04 - accuracy: 1.0000 - val_loss: 2.5537 - val_accuracy: 0.6662\n",
            "Epoch 25/50\n",
            "92/92 [==============================] - 2s 20ms/step - loss: 1.0312e-04 - accuracy: 1.0000 - val_loss: 2.5858 - val_accuracy: 0.6689\n",
            "Epoch 26/50\n",
            "92/92 [==============================] - 2s 23ms/step - loss: 9.1134e-05 - accuracy: 1.0000 - val_loss: 2.6151 - val_accuracy: 0.6703\n",
            "Epoch 27/50\n",
            "92/92 [==============================] - 2s 21ms/step - loss: 8.1708e-05 - accuracy: 1.0000 - val_loss: 2.6418 - val_accuracy: 0.6676\n",
            "Epoch 28/50\n",
            "92/92 [==============================] - 2s 20ms/step - loss: 7.3122e-05 - accuracy: 1.0000 - val_loss: 2.6710 - val_accuracy: 0.6689\n",
            "Epoch 29/50\n",
            "92/92 [==============================] - 2s 20ms/step - loss: 6.6321e-05 - accuracy: 1.0000 - val_loss: 2.6974 - val_accuracy: 0.6689\n",
            "Epoch 30/50\n",
            "92/92 [==============================] - 2s 20ms/step - loss: 6.0067e-05 - accuracy: 1.0000 - val_loss: 2.7197 - val_accuracy: 0.6676\n",
            "Epoch 31/50\n",
            "92/92 [==============================] - 2s 20ms/step - loss: 5.4959e-05 - accuracy: 1.0000 - val_loss: 2.7428 - val_accuracy: 0.6676\n",
            "Epoch 32/50\n",
            "92/92 [==============================] - 2s 23ms/step - loss: 4.9837e-05 - accuracy: 1.0000 - val_loss: 2.7679 - val_accuracy: 0.6689\n",
            "Epoch 33/50\n",
            "92/92 [==============================] - 2s 21ms/step - loss: 4.5652e-05 - accuracy: 1.0000 - val_loss: 2.7889 - val_accuracy: 0.6662\n",
            "Epoch 34/50\n",
            "92/92 [==============================] - 2s 20ms/step - loss: 4.2241e-05 - accuracy: 1.0000 - val_loss: 2.8113 - val_accuracy: 0.6662\n",
            "Epoch 35/50\n",
            "92/92 [==============================] - 2s 20ms/step - loss: 3.8820e-05 - accuracy: 1.0000 - val_loss: 2.8327 - val_accuracy: 0.6662\n",
            "Epoch 36/50\n",
            "92/92 [==============================] - 2s 20ms/step - loss: 3.5738e-05 - accuracy: 1.0000 - val_loss: 2.8551 - val_accuracy: 0.6649\n",
            "Epoch 37/50\n",
            "92/92 [==============================] - 2s 21ms/step - loss: 3.3214e-05 - accuracy: 1.0000 - val_loss: 2.8727 - val_accuracy: 0.6662\n",
            "Epoch 38/50\n",
            "92/92 [==============================] - 2s 24ms/step - loss: 3.0760e-05 - accuracy: 1.0000 - val_loss: 2.8932 - val_accuracy: 0.6649\n",
            "Epoch 39/50\n",
            "92/92 [==============================] - 2s 21ms/step - loss: 2.8406e-05 - accuracy: 1.0000 - val_loss: 2.9109 - val_accuracy: 0.6662\n",
            "Epoch 40/50\n",
            "92/92 [==============================] - 2s 22ms/step - loss: 2.6478e-05 - accuracy: 1.0000 - val_loss: 2.9317 - val_accuracy: 0.6649\n",
            "Epoch 41/50\n",
            "92/92 [==============================] - 2s 20ms/step - loss: 2.4804e-05 - accuracy: 1.0000 - val_loss: 2.9503 - val_accuracy: 0.6649\n",
            "Epoch 42/50\n",
            "92/92 [==============================] - 2s 20ms/step - loss: 2.3107e-05 - accuracy: 1.0000 - val_loss: 2.9671 - val_accuracy: 0.6649\n",
            "Epoch 43/50\n",
            "92/92 [==============================] - 2s 23ms/step - loss: 2.1568e-05 - accuracy: 1.0000 - val_loss: 2.9868 - val_accuracy: 0.6662\n",
            "Epoch 44/50\n",
            "92/92 [==============================] - 2s 26ms/step - loss: 2.0160e-05 - accuracy: 1.0000 - val_loss: 3.0046 - val_accuracy: 0.6662\n",
            "Epoch 45/50\n",
            "92/92 [==============================] - 2s 21ms/step - loss: 1.8800e-05 - accuracy: 1.0000 - val_loss: 3.0239 - val_accuracy: 0.6649\n",
            "Epoch 46/50\n",
            "92/92 [==============================] - 2s 20ms/step - loss: 1.7699e-05 - accuracy: 1.0000 - val_loss: 3.0392 - val_accuracy: 0.6649\n",
            "Epoch 47/50\n",
            "92/92 [==============================] - 2s 20ms/step - loss: 1.6529e-05 - accuracy: 1.0000 - val_loss: 3.0557 - val_accuracy: 0.6649\n",
            "Epoch 48/50\n",
            "92/92 [==============================] - 2s 20ms/step - loss: 1.5511e-05 - accuracy: 1.0000 - val_loss: 3.0716 - val_accuracy: 0.6676\n",
            "Epoch 49/50\n",
            "92/92 [==============================] - 2s 22ms/step - loss: 1.4538e-05 - accuracy: 1.0000 - val_loss: 3.0886 - val_accuracy: 0.6676\n",
            "Epoch 50/50\n",
            "92/92 [==============================] - 2s 22ms/step - loss: 1.3709e-05 - accuracy: 1.0000 - val_loss: 3.1059 - val_accuracy: 0.6676\n"
          ]
        }
      ],
      "source": [
        "epochs = 50\n",
        "# Specifies the number of epochs (iterations over the entire dataset) for training the model.\n",
        "\n",
        "history = model.fit(\n",
        "  train_ds,\n",
        "  # Training dataset used for model training.\n",
        "\n",
        "  validation_data=val_ds,\n",
        "  # Validation dataset used for evaluating the model's performance after each epoch.\n",
        "\n",
        "  epochs=epochs\n",
        "  # Number of epochs for which the model will be trained.\n",
        ")\n"
      ]
    },
    {
      "cell_type": "code",
      "execution_count": null,
      "metadata": {
        "colab": {
          "base_uri": "https://localhost:8080/"
        },
        "id": "YdznFCLjUNrr",
        "outputId": "7abfb295-d3d9-4e02-d787-e827a0504177"
      },
      "outputs": [
        {
          "name": "stdout",
          "output_type": "stream",
          "text": [
            "Training Complete!\n"
          ]
        }
      ],
      "source": [
        "print(\"Training Complete!\")"
      ]
    },
    {
      "cell_type": "code",
      "execution_count": null,
      "metadata": {
        "id": "GIN-K_eQUNrr"
      },
      "outputs": [],
      "source": [
        "acc = history.history['accuracy']\n",
        "# Retrieves the training accuracy for each epoch from the 'history' object.\n",
        "# 'accuracy' corresponds to the accuracy metric on the training dataset.\n",
        "\n",
        "val_acc = history.history['val_accuracy']\n",
        "# Retrieves the validation accuracy for each epoch from the 'history' object.\n",
        "# 'val_accuracy' corresponds to the accuracy metric on the validation dataset."
      ]
    },
    {
      "cell_type": "code",
      "execution_count": null,
      "metadata": {
        "id": "rYdJkQ2_UNrs"
      },
      "outputs": [],
      "source": [
        "loss = history.history['loss']\n",
        "# Retrieves the training loss for each epoch from the 'history' object.\n",
        "# 'loss' corresponds to the loss metric on the training dataset.\n",
        "\n",
        "val_loss = history.history['val_loss']\n",
        "# Retrieves the validation loss for each epoch from the 'history' object.\n",
        "# 'val_loss' corresponds to the loss metric on the validation dataset."
      ]
    },
    {
      "cell_type": "code",
      "execution_count": null,
      "metadata": {
        "id": "Qs6LeVUxUNrs"
      },
      "outputs": [],
      "source": [
        "epochs_range = range(epochs)\n",
        "# Creates a range of values representing the number of epochs.\n",
        "# 'epochs_range' is a range object that starts from 0 (the first epoch) and ends at 'epochs - 1'.\n",
        "# It is often used for setting the x-axis values when plotting metrics against epochs during visualization."
      ]
    },
    {
      "cell_type": "code",
      "execution_count": null,
      "metadata": {
        "colab": {
          "base_uri": "https://localhost:8080/",
          "height": 716
        },
        "id": "KGpmONPeUNrs",
        "outputId": "94d0dfa1-8334-4272-e636-867a37ded7cf"
      },
      "outputs": [
        {
          "data": {
            "text/plain": [
              "Text(0.5, 1.0, 'Training and Validation Accuracy')"
            ]
          },
          "execution_count": 43,
          "metadata": {},
          "output_type": "execute_result"
        },
        {
          "data": {
            "image/png": "[encoded data removed]",
            "text/plain": [
              "<Figure size 800x800 with 1 Axes>"
            ]
          },
          "metadata": {},
          "output_type": "display_data"
        }
      ],
      "source": [
        "plt.figure(figsize=(8, 8))\n",
        "# Creates a new figure for the plot with a size of 8x8 inches.\n",
        "\n",
        "plt.subplot(1, 2, 1)\n",
        "# Creates a subplot within the figure: 1 row, 2 columns, and this plot is the first one.\n",
        "\n",
        "plt.plot(epochs_range, acc, label='Training Accuracy')\n",
        "# Plots the training accuracy values against the number of epochs.\n",
        "# 'epochs_range' represents the x-axis (epochs), 'acc' represents the y-axis (training accuracy).\n",
        "# The 'label' parameter sets the label for the 'Training Accuracy' line in the plot.\n",
        "\n",
        "plt.plot(epochs_range, val_acc, label='Validation Accuracy')\n",
        "# Plots the validation accuracy values against the number of epochs.\n",
        "# 'epochs_range' represents the x-axis (epochs), 'val_acc' represents the y-axis (validation accuracy).\n",
        "# The 'label' parameter sets the label for the 'Validation Accuracy' line in the plot.\n",
        "\n",
        "plt.legend(loc='lower right')\n",
        "# Displays the legend on the plot, placing it in the lower right corner.\n",
        "# The legend shows the labels of the plotted lines ('Training Accuracy' and 'Validation Accuracy').\n",
        "\n",
        "plt.title('Training and Validation Accuracy')\n",
        "# Sets the title of the subplot as 'Training and Validation Accuracy'.\n"
      ]
    },
    {
      "cell_type": "code",
      "execution_count": null,
      "metadata": {
        "colab": {
          "base_uri": "https://localhost:8080/",
          "height": 452
        },
        "id": "nLYXm5bUUNrs",
        "outputId": "28c07d2e-8161-4ee2-f227-09364eafcd85"
      },
      "outputs": [
        {
          "data": {
            "image/png": "[encoded data removed]",
            "text/plain": [
              "<Figure size 640x480 with 1 Axes>"
            ]
          },
          "metadata": {},
          "output_type": "display_data"
        }
      ],
      "source": [
        "plt.subplot(1, 2, 2)\n",
        "# Creates the second subplot in a 1x2 grid within the figure.\n",
        "\n",
        "plt.plot(epochs_range, loss, label='Training Loss')\n",
        "# Plots the training loss values against the number of epochs.\n",
        "# 'epochs_range' represents the x-axis (epochs), 'loss' represents the y-axis (training loss).\n",
        "# The 'label' parameter sets the label for the 'Training Loss' line in the plot.\n",
        "\n",
        "plt.plot(epochs_range, val_loss, label='Validation Loss')\n",
        "# Plots the validation loss values against the number of epochs.\n",
        "# 'epochs_range' represents the x-axis (epochs), 'val_loss' represents the y-axis (validation loss).\n",
        "# The 'label' parameter sets the label for the 'Validation Loss' line in the plot.\n",
        "\n",
        "plt.legend(loc='upper right')\n",
        "# Displays the legend on the plot, placing it in the upper right corner.\n",
        "# The legend shows the labels of the plotted lines ('Training Loss' and 'Validation Loss').\n",
        "\n",
        "plt.title('Training and Validation Loss')\n",
        "# Sets the title of the subplot as 'Training and Validation Loss'.\n",
        "\n",
        "plt.show()\n",
        "# Displays the entire figure containing the two subplots showing loss metrics.\n"
      ]
    },
    {
      "cell_type": "code",
      "execution_count": null,
      "metadata": {
        "colab": {
          "base_uri": "https://localhost:8080/"
        },
        "id": "pUO31NFnUNrs",
        "outputId": "3995c292-ec66-4c07-f5e5-e6ee32589d07"
      },
      "outputs": [
        {
          "name": "stdout",
          "output_type": "stream",
          "text": [
            "Model Saved\n"
          ]
        },
        {
          "name": "stderr",
          "output_type": "stream",
          "text": [
            "<ipython-input-45-00d3b7dd8f35>:1: UserWarning: You are saving your model as an HDF5 file via `model.save()`. This file format is considered legacy. We recommend using instead the native Keras format, e.g. `model.save('my_model.keras')`.\n",
            "  save_model(model, 'flower_model_trained.hdf5')\n"
          ]
        }
      ],
      "source": [
        "save_model(model, 'flower_model_trained.hdf5')\n",
        "# Saves the trained model to a file named 'flower_model_trained.hdf5'.\n",
        "# The model is saved in the HDF5 file format, which stores both the model architecture and weights.\n",
        "\n",
        "print(\"Model Saved\")\n",
        "# Prints a message to the console indicating that the model has been successfully saved."
      ]
    }
  ],
  "metadata": {
    "accelerator": "GPU",
    "colab": {
      "gpuType": "T4",
      "provenance": []
    },
    "kernelspec": {
      "display_name": "Python 3",
      "name": "python3"
    },
    "language_info": {
      "codemirror_mode": {
        "name": "ipython",
        "version": 3
      },
      "file_extension": ".py",
      "mimetype": "text/x-python",
      "name": "python",
      "nbconvert_exporter": "python",
      "pygments_lexer": "ipython3",
      "version": "3.10.13"
    }
  },
  "nbformat": 4,
  "nbformat_minor": 0
}
